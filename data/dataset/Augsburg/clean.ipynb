{
 "cells": [
  {
   "cell_type": "markdown",
   "metadata": {},
   "source": [
    "# Augsburg数据集\n",
    "来自仓库https://github.com/danfenghong/ISPRS_S2FL\n",
    "训练集和测试集的划分在数据集中已经给出\n",
    "训练集为TrainImage，测试集为TestImage\n",
    "注意：这个数据集太大了，所以这个数据集的patch size 我设置成7 * 7 了"
   ]
  },
  {
   "cell_type": "code",
   "execution_count": 1,
   "metadata": {
    "tags": []
   },
   "outputs": [],
   "source": [
    "import scipy.io as scio\n",
    "import numpy as np"
   ]
  },
  {
   "cell_type": "code",
   "execution_count": 2,
   "metadata": {
    "collapsed": false,
    "jupyter": {
     "outputs_hidden": false
    },
    "pycharm": {
     "name": "#%%\n"
    }
   },
   "outputs": [],
   "source": [
    "\n",
    "# 1\n",
    "\n",
    "a1=r'HS-SAR-DSM Augsburg/data_DSM.mat'\n",
    "a2=r'HS-SAR-DSM Augsburg/data_HS_LR.mat'\n",
    "a3=r'HS-SAR-DSM Augsburg/data_SAR_HR.mat'\n",
    "a4=r'HS-SAR-DSM Augsburg/TestImage.mat'\n",
    "a5=r'HS-SAR-DSM Augsburg/TrainImage.mat'\n",
    "dsm = scio.loadmat(a1)\n",
    "hsi = scio.loadmat(a2)\n",
    "sar = scio.loadmat(a3)\n",
    "test = scio.loadmat(a4)\n",
    "train = scio.loadmat(a5)"
   ]
  },
  {
   "cell_type": "code",
   "execution_count": 3,
   "metadata": {
    "collapsed": false,
    "jupyter": {
     "outputs_hidden": false
    },
    "pycharm": {
     "name": "#%%\n"
    }
   },
   "outputs": [],
   "source": [
    "hsi = hsi['data_HS_LR']\n",
    "sar = sar['data_SAR_HR']\n",
    "test = test['TestImage']\n",
    "train = train['TrainImage']\n",
    "dsm = dsm['data_DSM']\n",
    "dsm = np.expand_dims(dsm, axis=2)"
   ]
  },
  {
   "cell_type": "code",
   "execution_count": 4,
   "metadata": {
    "collapsed": false,
    "jupyter": {
     "outputs_hidden": false
    },
    "pycharm": {
     "name": "#%%\n"
    }
   },
   "outputs": [
    {
     "name": "stdout",
     "output_type": "stream",
     "text": [
      "(332, 485, 180)\n",
      "(332, 485, 4)\n",
      "(332, 485)\n",
      "(332, 485)\n",
      "(332, 485, 1)\n"
     ]
    }
   ],
   "source": [
    "print(hsi.shape)# (332, 485, 180)\n",
    "print(sar.shape)# (332, 485, 4)\n",
    "print(test.shape)# (332, 485)\n",
    "print(train.shape)# (332, 485)\n",
    "print(dsm.shape)# (332, 485)"
   ]
  },
  {
   "cell_type": "code",
   "execution_count": 11,
   "metadata": {
    "pycharm": {
     "name": "#%%\n"
    },
    "tags": []
   },
   "outputs": [],
   "source": [
    "def choose_true_point(true_data, num_classes):\n",
    "    number_true = []\n",
    "    pos_true = {}\n",
    "    for i in range(num_classes + 1):\n",
    "        each_class = np.argwhere(true_data == i)\n",
    "        number_true.append(each_class.shape[0])\n",
    "        pos_true[i] = each_class\n",
    "\n",
    "    total_pos_true = pos_true[0]\n",
    "    for i in range(1, num_classes + 1):\n",
    "        total_pos_true = np.r_[total_pos_true, pos_true[i]]\n",
    "    total_pos_true = total_pos_true.astype(int)\n",
    "    return total_pos_true, number_true\n",
    "\n",
    "\n",
    "def choose_img_point(height, width):\n",
    "    total_pos_true = np.array([[i, j] for i in range(height) for j in range(width)])\n",
    "    return total_pos_true\n",
    "\n",
    "\n",
    "# 1\n",
    "def chooose_point(test_data, num_classes):\n",
    "    number_test = []\n",
    "    pos_test = {}\n",
    "\n",
    "    for i in range(num_classes):\n",
    "        each_class = np.argwhere(test_data == (i + 1))\n",
    "        number_test.append(each_class.shape[0])\n",
    "        pos_test[i] = each_class\n",
    "\n",
    "    total_pos_test = pos_test[0]\n",
    "    for i in range(1, num_classes):\n",
    "        total_pos_test = np.r_[total_pos_test, pos_test[i]]  # (9671,2)\n",
    "    total_pos_test = total_pos_test.astype(int)\n",
    "    return total_pos_test, number_test\n",
    "\n",
    "\n",
    "def mirror_hsi( input_normalize, patch=5):\n",
    "    height, width, band = input_normalize.shape\n",
    "    padding = patch // 2\n",
    "    mirror_hsi = np.zeros((height + 2 * padding, width + 2 * padding, band), dtype=np.float32)  # padding后的图 上下左右各加padding\n",
    "\n",
    "    mirror_hsi[padding:(padding + height), padding:(padding + width), :] = input_normalize  # 中间用原图初始化\n",
    "\n",
    "    for i in range(padding):\n",
    "        mirror_hsi[padding:(height + padding), i, :] = input_normalize[:, padding - i - 1, :]\n",
    "\n",
    "    for i in range(padding):\n",
    "        mirror_hsi[padding:(height + padding), width + padding + i, :] = input_normalize[:, width - 1 - i, :]\n",
    "\n",
    "    for i in range(padding):\n",
    "        mirror_hsi[i, :, :] = mirror_hsi[padding * 2 - i - 1, :, :]\n",
    "\n",
    "    for i in range(padding):\n",
    "        mirror_hsi[height + padding + i, :, :] = mirror_hsi[height + padding - 1 - i, :, :]\n",
    "\n",
    "    print(\"**************************************************\")\n",
    "    print(\"patch is : {}\".format(patch))\n",
    "    print(\"mirror_image shape : [{0},{1},{2}]\".format(mirror_hsi.shape[0], mirror_hsi.shape[1], mirror_hsi.shape[2]))\n",
    "    print(\"**************************************************\")\n",
    "    return mirror_hsi\n",
    "\n",
    "\n",
    "def gain_neighborhood_pixel(mirror_image, point, i, patch=5):\n",
    "    x = point[i, 0]\n",
    "    y = point[i, 1]\n",
    "    temp_image = mirror_image[x:(x + patch), y:(y + patch), :]\n",
    "    return temp_image\n",
    "\n",
    "\n",
    "\n",
    "\n",
    "def get_data(mirror_image, test_point, patch=5):\n",
    "    height, width, band = mirror_image.shape\n",
    "    x_test = np.zeros((test_point.shape[0], patch, patch, band), dtype=np.float32)\n",
    "\n",
    "    for j in range(test_point.shape[0]):\n",
    "        x_test[j, :, :, :] = gain_neighborhood_pixel(mirror_image, test_point, j, patch)\n",
    "    print(\"x_test  shape = {}, type = {}\".format(x_test.shape, x_test.dtype))\n",
    "    print(\"**************************************************\")\n",
    "\n",
    "    return x_test\n",
    "\n",
    "\n",
    "def get_label(number_test, num_classes):\n",
    "    y_test = []\n",
    "    for i in range(num_classes):\n",
    "        for k in range(number_test[i]):\n",
    "            y_test.append(i+1)\n",
    "\n",
    "    y_test = np.array(y_test)\n",
    "    print(\"y_test: shape = {} ,type = {}\".format(y_test.shape, y_test.dtype))\n",
    "    print(\"**************************************************\")\n",
    "    return y_test\n",
    "\n",
    "def norm(data):\n",
    "    input_normalize = np.zeros(data.shape)\n",
    "\n",
    "    for i in range(data.shape[2]):\n",
    "        input_max = np.max(data[:, :, i])\n",
    "        input_min = np.min(data[:, :, i])\n",
    "        input_normalize[:, :, i] = (data[:, :, i] - input_min) / (input_max - input_min)\n",
    "    return input_normalize"
   ]
  },
  {
   "cell_type": "markdown",
   "metadata": {},
   "source": [
    "# 归一化和池化（patch就是patch size，这里是7"
   ]
  },
  {
   "cell_type": "code",
   "execution_count": 12,
   "metadata": {
    "collapsed": false,
    "jupyter": {
     "outputs_hidden": false
    },
    "pycharm": {
     "name": "#%%\n"
    }
   },
   "outputs": [
    {
     "name": "stdout",
     "output_type": "stream",
     "text": [
      "**************************************************\n",
      "patch is : 7\n",
      "mirror_image shape : [338,491,180]\n",
      "**************************************************\n"
     ]
    }
   ],
   "source": [
    "num_classes = 7\n",
    "patch = 7\n",
    "hsi = norm(hsi)\n",
    "scio.savemat(r'HSI_norm.mat',{'Data':hsi})\n",
    "hsi = mirror_hsi(hsi,patch)\n",
    "#\n",
    "total_pos_test, number_test = chooose_point(test, num_classes)\n",
    "total_pos_train, number_train = chooose_point(train, num_classes)"
   ]
  },
  {
   "cell_type": "markdown",
   "metadata": {},
   "source": [
    "# 测试集和训练集的样例个数"
   ]
  },
  {
   "cell_type": "code",
   "execution_count": 13,
   "metadata": {
    "collapsed": false,
    "jupyter": {
     "outputs_hidden": false
    },
    "pycharm": {
     "name": "#%%\n"
    }
   },
   "outputs": [
    {
     "data": {
      "text/plain": [
       "[13361, 30065, 3830, 26609, 523, 1638, 1507]"
      ]
     },
     "execution_count": 13,
     "metadata": {},
     "output_type": "execute_result"
    }
   ],
   "source": [
    "number_test"
   ]
  },
  {
   "cell_type": "code",
   "execution_count": 14,
   "metadata": {},
   "outputs": [
    {
     "data": {
      "text/plain": [
       "[146, 264, 21, 248, 52, 7, 23]"
      ]
     },
     "execution_count": 14,
     "metadata": {},
     "output_type": "execute_result"
    }
   ],
   "source": [
    "number_train"
   ]
  },
  {
   "cell_type": "code",
   "execution_count": 15,
   "metadata": {
    "collapsed": false,
    "jupyter": {
     "outputs_hidden": false
    },
    "pycharm": {
     "name": "#%%\n"
    }
   },
   "outputs": [
    {
     "name": "stdout",
     "output_type": "stream",
     "text": [
      "x_test  shape = (77533, 7, 7, 180), type = float32\n",
      "**************************************************\n",
      "x_test  shape = (761, 7, 7, 180), type = float32\n",
      "**************************************************\n"
     ]
    }
   ],
   "source": [
    "HSI_Te = get_data(hsi, total_pos_test,patch=patch,)\n",
    "scio.savemat(\"HSI_Te.mat\",{\"Data\":HSI_Te})\n",
    "del HSI_Te\n",
    "HSI_Tr = get_data(hsi, total_pos_train,patch=patch,)\n",
    "scio.savemat(\"HSI_Tr.mat\",{\"Data\":HSI_Tr})\n",
    "del HSI_Tr\n",
    "del  hsi\n"
   ]
  },
  {
   "cell_type": "code",
   "execution_count": 16,
   "metadata": {
    "collapsed": false,
    "jupyter": {
     "outputs_hidden": false
    },
    "pycharm": {
     "name": "#%%\n"
    }
   },
   "outputs": [
    {
     "name": "stdout",
     "output_type": "stream",
     "text": [
      "**************************************************\n",
      "patch is : 7\n",
      "mirror_image shape : [338,491,4]\n",
      "**************************************************\n",
      "x_test  shape = (77533, 7, 7, 4), type = float32\n",
      "**************************************************\n",
      "x_test  shape = (761, 7, 7, 4), type = float32\n",
      "**************************************************\n"
     ]
    }
   ],
   "source": [
    "sar = norm(sar)\n",
    "scio.savemat(r'SAR_norm.mat',{'Data':sar})\n",
    "sar = mirror_hsi(sar,patch)\n",
    "\n",
    "SAR_Te = get_data(sar, total_pos_test,patch=patch,)\n",
    "SAR_Tr = get_data(sar, total_pos_train,patch=patch,)\n",
    "scio.savemat(\"SAR_Te.mat\",{\"Data\":SAR_Te})\n",
    "scio.savemat(\"SAR_Tr.mat\",{\"Data\":SAR_Tr})\n",
    "\n"
   ]
  },
  {
   "cell_type": "code",
   "execution_count": 17,
   "metadata": {
    "collapsed": false,
    "jupyter": {
     "outputs_hidden": false
    },
    "pycharm": {
     "name": "#%%\n"
    }
   },
   "outputs": [
    {
     "name": "stdout",
     "output_type": "stream",
     "text": [
      "**************************************************\n",
      "patch is : 7\n",
      "mirror_image shape : [338,491,1]\n",
      "**************************************************\n",
      "x_test  shape = (77533, 7, 7, 1), type = float32\n",
      "**************************************************\n",
      "x_test  shape = (761, 7, 7, 1), type = float32\n",
      "**************************************************\n"
     ]
    }
   ],
   "source": [
    "dsm = norm(dsm)\n",
    "scio.savemat(r'DSM_norm.mat',{'Data':dsm})\n",
    "dsm = mirror_hsi(dsm,patch)\n",
    "DSM_Te = get_data(dsm, total_pos_test,patch=patch,)\n",
    "DSM_Tr = get_data(dsm, total_pos_train,patch=patch,)\n",
    "scio.savemat(\"DSM_Te.mat\",{\"Data\":DSM_Te})\n",
    "scio.savemat(\"DSM_Tr.mat\",{\"Data\":DSM_Tr})"
   ]
  },
  {
   "cell_type": "code",
   "execution_count": 18,
   "metadata": {
    "collapsed": false,
    "jupyter": {
     "outputs_hidden": false
    },
    "pycharm": {
     "name": "#%%\n"
    }
   },
   "outputs": [
    {
     "name": "stdout",
     "output_type": "stream",
     "text": [
      "y_test: shape = (77533,) ,type = int64\n",
      "**************************************************\n",
      "y_test: shape = (761,) ,type = int64\n",
      "**************************************************\n"
     ]
    }
   ],
   "source": [
    "\n",
    "TeLabel = get_label(number_test, num_classes)\n",
    "TrLabel = get_label(number_train, num_classes)\n",
    "scio.savemat(\"TeLabel.mat\",{\"Data\":TeLabel})\n",
    "scio.savemat(\"TrLabel.mat\",{\"Data\":TrLabel})"
   ]
  },
  {
   "cell_type": "code",
   "execution_count": 19,
   "metadata": {},
   "outputs": [
    {
     "data": {
      "text/plain": [
       "array([1, 1, 1, ..., 7, 7, 7])"
      ]
     },
     "execution_count": 19,
     "metadata": {},
     "output_type": "execute_result"
    }
   ],
   "source": [
    "TeLabel"
   ]
  },
  {
   "cell_type": "code",
   "execution_count": null,
   "metadata": {},
   "outputs": [],
   "source": []
  }
 ],
 "metadata": {
  "kernelspec": {
   "display_name": "Python 3 (ipykernel)",
   "language": "python",
   "name": "python3"
  },
  "language_info": {
   "codemirror_mode": {
    "name": "ipython",
    "version": 3
   },
   "file_extension": ".py",
   "mimetype": "text/x-python",
   "name": "python",
   "nbconvert_exporter": "python",
   "pygments_lexer": "ipython3",
   "version": "3.8.10"
  }
 },
 "nbformat": 4,
 "nbformat_minor": 4
}
