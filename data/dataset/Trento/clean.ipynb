{
 "cells": [
  {
   "cell_type": "markdown",
   "metadata": {},
   "source": [
    "# Trento数据集\n",
    "MFT论文中采用的是disjoint划分，但这个数据集我只找到了整张图片的数据\n",
    "\n",
    "此代码中的划分采用了sample_gt函数 每类选择184个测试样本的划分方式。\n"
   ]
  },
  {
   "cell_type": "code",
   "execution_count": 1,
   "metadata": {
    "collapsed": false,
    "pycharm": {
     "name": "#%%\n"
    }
   },
   "outputs": [],
   "source": [
    "import scipy.io as io\n",
    "import numpy as np\n"
   ]
  },
  {
   "cell_type": "code",
   "execution_count": 2,
   "metadata": {
    "collapsed": false,
    "pycharm": {
     "name": "#%%\n"
    }
   },
   "outputs": [
    {
     "name": "stdout",
     "output_type": "stream",
     "text": [
      "{'__header__': b'MATLAB 5.0 MAT-file, Platform: PCWIN64, Created on: Sat Mar 26 15:20:14 2022', '__version__': '1.0', '__globals__': [], 'HSI_data': array([[[1137344512, 1139245056, 1140031488, ..., 1151533056,\n",
      "         1153990656, 1153679360],\n",
      "        [1140867072, 1139965952, 1137704960, ..., 1151942656,\n",
      "         1152204800, 1152671744],\n",
      "        [1138884608, 1137311744, 1136689152, ..., 1149673472,\n",
      "         1152204800, 1154195456],\n",
      "        ...,\n",
      "        [1136263168, 1139965952, 1139834880, ..., 1155063808,\n",
      "         1156177920, 1158963200],\n",
      "        [1136721920, 1138196480, 1138065408, ..., 1152737280,\n",
      "         1153802240, 1155104768],\n",
      "        [1141932032, 1135607808, 1136787456, ..., 1153646592,\n",
      "         1153556480, 1156120576]],\n",
      "\n",
      "       [[1138262016, 1139736576, 1134592000, ..., 1152524288,\n",
      "         1155203072, 1153916928],\n",
      "        [1135280128, 1134067712, 1137573888, ..., 1149739008,\n",
      "         1150066688, 1153966080],\n",
      "        [1135706112, 1136197632, 1136394240, ..., 1150107648,\n",
      "         1149394944, 1154424832],\n",
      "        ...,\n",
      "        [1139539968, 1139965952, 1138458624, ..., 1153662976,\n",
      "         1155833856, 1155489792],\n",
      "        [1137934336, 1138917376, 1137311744, ..., 1153056768,\n",
      "         1155612672, 1157947392],\n",
      "        [1138327552, 1139113984, 1137639424, ..., 1154899968,\n",
      "         1156145152, 1157668864]],\n",
      "\n",
      "       [[1139507200, 1137737728, 1137999872, ..., 1152491520,\n",
      "         1151025152, 1153974272],\n",
      "        [1138130944, 1135083520, 1137213440, ..., 1149771776,\n",
      "         1152606208, 1154482176],\n",
      "        [1136787456, 1139867648, 1136787456, ..., 1150885888,\n",
      "         1152368640, 1155497984],\n",
      "        ...,\n",
      "        [1140162560, 1139507200, 1141456896, ..., 1152417792,\n",
      "         1154572288, 1157644288],\n",
      "        [1140654080, 1139212288, 1138229248, ..., 1154293760,\n",
      "         1152761856, 1156939776],\n",
      "        [1142652928, 1139113984, 1139376128, ..., 1154736128,\n",
      "         1155776512, 1158213632]],\n",
      "\n",
      "       ...,\n",
      "\n",
      "       [[1136590848, 1138851840, 1139179520, ..., 1151967232,\n",
      "         1155325952, 1156120576],\n",
      "        [1137311744, 1136361472, 1139671040, ..., 1153171456,\n",
      "         1153998848, 1157619712],\n",
      "        [1139769344, 1135443968, 1136852992, ..., 1153196032,\n",
      "         1153261568, 1156702208],\n",
      "        ...,\n",
      "        [1158156288, 1161011200, 1162539008, ..., 1156661248,\n",
      "         1158258688, 1159753728],\n",
      "        [1158156288, 1161523200, 1163096064, ..., 1156800512,\n",
      "         1158082560, 1160851456],\n",
      "        [1151991808, 1153605632, 1156612096, ..., 1157795840,\n",
      "         1157861376, 1158905856]],\n",
      "\n",
      "       [[1138950144, 1141735424, 1137049600, ..., 1153024000,\n",
      "         1153605632, 1157947392],\n",
      "        [1136852992, 1138982912, 1136066560, ..., 1153916928,\n",
      "         1153605632, 1157521408],\n",
      "        [1139113984, 1137180672, 1138655232, ..., 1152425984,\n",
      "         1152950272, 1155653632],\n",
      "        ...,\n",
      "        [1155661824, 1158524928, 1160765440, ..., 1156202496,\n",
      "         1158414336, 1159729152],\n",
      "        [1150328832, 1151746048, 1152458752, ..., 1153949696,\n",
      "         1156972544, 1159057408],\n",
      "        [1144455168, 1146437632, 1145126912, ..., 1154867200,\n",
      "         1157439488, 1158635520]],\n",
      "\n",
      "       [[1135706112, 1139671040, 1137475584, ..., 1154916352,\n",
      "         1154826240, 1158070272],\n",
      "        [1137147904, 1138425856, 1139474432, ..., 1152835584,\n",
      "         1155489792, 1158070272],\n",
      "        [1135706112, 1138458624, 1138491392, ..., 1154916352,\n",
      "         1154498560, 1157021696],\n",
      "        ...,\n",
      "        [1151565824, 1155309568, 1157808128, ..., 1155899392,\n",
      "         1156882432, 1158979584],\n",
      "        [1145700352, 1148469248, 1149820928, ..., 1155448832,\n",
      "         1155317760, 1159057408],\n",
      "        [1141571584, 1144274944, 1143095296, ..., 1155768320,\n",
      "         1156767744, 1159012352]]], dtype=int32), 'LiDAR_data': array([[229, 219, 210, ...,   0,   0,   0],\n",
      "       [235, 239, 228, ...,   0,   0,   0],\n",
      "       [254, 240, 227, ...,   0,   0,   0],\n",
      "       ...,\n",
      "       [ 26,  24,  19, ...,   0,   0,   0],\n",
      "       [ 33,  34,   7, ...,   0,   0,   0],\n",
      "       [ 27,  20,  11, ...,   0,   0,   0]], dtype=uint8), 'ground': array([[0, 0, 0, ..., 0, 0, 0],\n",
      "       [0, 0, 0, ..., 0, 0, 0],\n",
      "       [0, 0, 0, ..., 0, 0, 0],\n",
      "       ...,\n",
      "       [0, 0, 0, ..., 0, 0, 0],\n",
      "       [0, 0, 0, ..., 0, 0, 0],\n",
      "       [0, 0, 0, ..., 0, 0, 0]], dtype=uint8)}\n"
     ]
    }
   ],
   "source": [
    "data = io.loadmat(r'trento_data.mat')\n",
    "print(data)"
   ]
  },
  {
   "cell_type": "code",
   "execution_count": 3,
   "metadata": {
    "collapsed": false,
    "pycharm": {
     "name": "#%%\n"
    }
   },
   "outputs": [
    {
     "data": {
      "text/plain": [
       "dict_keys(['__header__', '__version__', '__globals__', 'HSI_data', 'LiDAR_data', 'ground'])"
      ]
     },
     "execution_count": 3,
     "metadata": {},
     "output_type": "execute_result"
    }
   ],
   "source": [
    "data.keys()"
   ]
  },
  {
   "cell_type": "code",
   "execution_count": 4,
   "metadata": {
    "collapsed": false,
    "pycharm": {
     "name": "#%%\n"
    }
   },
   "outputs": [
    {
     "data": {
      "text/plain": [
       "(166, 600, 63)"
      ]
     },
     "execution_count": 4,
     "metadata": {},
     "output_type": "execute_result"
    }
   ],
   "source": [
    "hsi = data['HSI_data']\n",
    "hsi.shape"
   ]
  },
  {
   "cell_type": "code",
   "execution_count": 5,
   "metadata": {
    "collapsed": false,
    "pycharm": {
     "name": "#%%\n"
    }
   },
   "outputs": [
    {
     "data": {
      "text/plain": [
       "(166, 600, 1)"
      ]
     },
     "execution_count": 5,
     "metadata": {},
     "output_type": "execute_result"
    }
   ],
   "source": [
    "lidar = data['LiDAR_data']\n",
    "\n",
    "lidar = np.expand_dims(lidar, axis=2)\n",
    "lidar.shape"
   ]
  },
  {
   "cell_type": "code",
   "execution_count": 6,
   "metadata": {
    "collapsed": false,
    "pycharm": {
     "name": "#%%\n"
    }
   },
   "outputs": [
    {
     "data": {
      "text/plain": [
       "(166, 600)"
      ]
     },
     "execution_count": 6,
     "metadata": {},
     "output_type": "execute_result"
    }
   ],
   "source": [
    "ground = data['ground']\n",
    "ground.shape\n"
   ]
  },
  {
   "cell_type": "code",
   "execution_count": 7,
   "metadata": {
    "collapsed": false,
    "pycharm": {
     "name": "#%%\n"
    }
   },
   "outputs": [],
   "source": [
    "import sklearn\n",
    "import sklearn.model_selection\n",
    "def sample_gt(gt, train_size, mode='random'):\n",
    "    if train_size==1:\n",
    "        return gt\n",
    "    \"\"\"Extract a fixed percentage of samples from an array of labels.\n",
    "\n",
    "    Args:\n",
    "        gt: a 2D array of int labels\n",
    "        percentage: [0, 1] float\n",
    "    Returns:\n",
    "        train_gt, test_gt: 2D arrays of int labels\n",
    "\n",
    "    \"\"\"\n",
    "    indices = np.nonzero(gt)\n",
    "    X = list(zip(*indices)) # x,y features\n",
    "    y = gt[indices].ravel() # classes\n",
    "    train_gt = np.zeros_like(gt)\n",
    "    test_gt = np.zeros_like(gt)\n",
    "    if train_size > 1:\n",
    "       train_size = int(train_size)\n",
    "\n",
    "    if mode == 'random':\n",
    "       train_indices, test_indices = sklearn.model_selection.train_test_split(X, train_size=train_size, stratify=y)\n",
    "       train_indices = tuple(list(t) for t in zip(*train_indices))\n",
    "       test_indices = tuple(list(t) for t in zip(*test_indices))\n",
    "       train_gt[train_indices] = gt[train_indices]\n",
    "       test_gt[test_indices] = gt[test_indices]\n",
    "    elif mode == 'fixed':\n",
    "       print(\"Sampling {} with train size = {}\".format(mode, train_size))\n",
    "       train_indices, test_indices = [], []\n",
    "       for c in np.unique(gt):\n",
    "           if c == 0:\n",
    "              continue\n",
    "           indices = np.nonzero(gt == c)\n",
    "           X = list(zip(*indices)) # x,y features\n",
    "\n",
    "           train, test = sklearn.model_selection.train_test_split(X, train_size=train_size)\n",
    "           train_indices += train\n",
    "           test_indices += test\n",
    "       train_indices = [list(t) for t in zip(*train_indices)]\n",
    "       test_indices = [list(t) for t in zip(*test_indices)]\n",
    "       train_gt[train_indices] = gt[train_indices]\n",
    "       test_gt[test_indices] = gt[test_indices]\n",
    "\n",
    "    elif mode == 'disjoint':\n",
    "        train_gt = np.copy(gt)\n",
    "        test_gt = np.copy(gt)\n",
    "        for c in np.unique(gt):\n",
    "            mask = gt == c\n",
    "            for x in range(gt.shape[0]):\n",
    "                first_half_count = np.count_nonzero(mask[:x, :])\n",
    "                second_half_count = np.count_nonzero(mask[x:, :])\n",
    "                try:\n",
    "                    ratio = first_half_count / (first_half_count + second_half_count)\n",
    "                    if ratio > 0.9 * train_size:\n",
    "                        break\n",
    "                except ZeroDivisionError:\n",
    "                    continue\n",
    "            mask[:x, :] = 0\n",
    "            train_gt[mask] = 0\n",
    "\n",
    "        test_gt[train_gt > 0] = 0\n",
    "    else:\n",
    "        raise ValueError(\"{} sampling is not implemented yet.\".format(mode))\n",
    "    return train_gt,test_gt\n",
    "def choose_true_point(true_data, num_classes):\n",
    "    number_true = []\n",
    "    pos_true = {}\n",
    "    for i in range(num_classes + 1):\n",
    "        each_class = np.argwhere(true_data == i)\n",
    "        number_true.append(each_class.shape[0])\n",
    "        pos_true[i] = each_class\n",
    "\n",
    "    total_pos_true = pos_true[0]\n",
    "    for i in range(1, num_classes + 1):\n",
    "        total_pos_true = np.r_[total_pos_true, pos_true[i]]\n",
    "    total_pos_true = total_pos_true.astype(int)\n",
    "    return total_pos_true, number_true\n",
    "\n",
    "\n",
    "def choose_img_point(height, width):\n",
    "    total_pos_true = np.array([[i, j] for i in range(height) for j in range(width)])\n",
    "    return total_pos_true\n",
    "\n",
    "\n",
    "# 1\n",
    "def chooose_point(test_data, num_classes):\n",
    "    number_test = []\n",
    "    pos_test = {}\n",
    "\n",
    "    for i in range(num_classes):\n",
    "        each_class = np.argwhere(test_data == (i + 1))\n",
    "        number_test.append(each_class.shape[0])\n",
    "        pos_test[i] = each_class\n",
    "\n",
    "    total_pos_test = pos_test[0]\n",
    "    for i in range(1, num_classes):\n",
    "        total_pos_test = np.r_[total_pos_test, pos_test[i]]  # (9671,2)\n",
    "    total_pos_test = total_pos_test.astype(int)\n",
    "    return total_pos_test, number_test\n",
    "\n",
    "\n",
    "def mirror_hsi( input_normalize, patch=5):\n",
    "    height, width, band = input_normalize.shape\n",
    "    padding = patch // 2\n",
    "    mirror_hsi = np.zeros((height + 2 * padding, width + 2 * padding, band), dtype=float)  # padding后的图 上下左右各加padding\n",
    "\n",
    "    mirror_hsi[padding:(padding + height), padding:(padding + width), :] = input_normalize  # 中间用原图初始化\n",
    "\n",
    "    for i in range(padding):\n",
    "        mirror_hsi[padding:(height + padding), i, :] = input_normalize[:, padding - i - 1, :]\n",
    "\n",
    "    for i in range(padding):\n",
    "        mirror_hsi[padding:(height + padding), width + padding + i, :] = input_normalize[:, width - 1 - i, :]\n",
    "\n",
    "    for i in range(padding):\n",
    "        mirror_hsi[i, :, :] = mirror_hsi[padding * 2 - i - 1, :, :]\n",
    "\n",
    "    for i in range(padding):\n",
    "        mirror_hsi[height + padding + i, :, :] = mirror_hsi[height + padding - 1 - i, :, :]\n",
    "\n",
    "    print(\"**************************************************\")\n",
    "    print(\"patch is : {}\".format(patch))\n",
    "    print(\"mirror_image shape : [{0},{1},{2}]\".format(mirror_hsi.shape[0], mirror_hsi.shape[1], mirror_hsi.shape[2]))\n",
    "    print(\"**************************************************\")\n",
    "    return mirror_hsi\n",
    "\n",
    "\n",
    "def gain_neighborhood_pixel(mirror_image, point, i, patch=5):\n",
    "    x = point[i, 0]\n",
    "    y = point[i, 1]\n",
    "    temp_image = mirror_image[x:(x + patch), y:(y + patch), :]\n",
    "    return temp_image\n",
    "\n",
    "\n",
    "\n",
    "\n",
    "def get_data(mirror_image, test_point, patch=5):\n",
    "    height, width, band = mirror_image.shape\n",
    "    x_test = np.zeros((test_point.shape[0], patch, patch, band), dtype=float)\n",
    "\n",
    "    for j in range(test_point.shape[0]):\n",
    "        x_test[j, :, :, :] = gain_neighborhood_pixel(mirror_image, test_point, j, patch)\n",
    "    print(\"x_test  shape = {}, type = {}\".format(x_test.shape, x_test.dtype))\n",
    "    print(\"**************************************************\")\n",
    "\n",
    "    return x_test\n",
    "\n",
    "\n",
    "def get_label(number_test, num_classes):\n",
    "    y_test = []\n",
    "    for i in range(num_classes):\n",
    "        for k in range(number_test[i]):\n",
    "            y_test.append(i+1)\n",
    "\n",
    "    y_test = np.array(y_test)\n",
    "    print(\"y_test: shape = {} ,type = {}\".format(y_test.shape, y_test.dtype))\n",
    "    print(\"**************************************************\")\n",
    "    return y_test\n",
    "\n",
    "def norm(data):\n",
    "    input_normalize = np.zeros(data.shape)\n",
    "\n",
    "    for i in range(data.shape[2]):\n",
    "        input_max = np.max(data[:, :, i])\n",
    "        input_min = np.min(data[:, :, i])\n",
    "        input_normalize[:, :, i] = (data[:, :, i] - input_min) / (input_max - input_min)\n",
    "    return input_normalize"
   ]
  },
  {
   "cell_type": "code",
   "execution_count": 8,
   "metadata": {
    "collapsed": false,
    "pycharm": {
     "name": "#%%\n"
    }
   },
   "outputs": [],
   "source": [
    "train_gt,test_gt = sample_gt(ground,184)"
   ]
  },
  {
   "cell_type": "code",
   "execution_count": 9,
   "metadata": {
    "collapsed": false,
    "pycharm": {
     "name": "#%%\n"
    }
   },
   "outputs": [
    {
     "data": {
      "text/plain": [
       "array([  0,   0,   0, ..., 164, 165, 165])"
      ]
     },
     "execution_count": 9,
     "metadata": {},
     "output_type": "execute_result"
    }
   ],
   "source": [
    "np.nonzero(ground)[0]"
   ]
  },
  {
   "cell_type": "code",
   "execution_count": 10,
   "metadata": {
    "collapsed": false,
    "pycharm": {
     "name": "#%%\n"
    }
   },
   "outputs": [],
   "source": [
    "num_classes = 6\n",
    "\n",
    "#\n",
    "total_pos_test, number_test = chooose_point(test_gt, num_classes)\n",
    "total_pos_train, number_train = chooose_point(train_gt, num_classes)"
   ]
  },
  {
   "cell_type": "code",
   "execution_count": 11,
   "metadata": {},
   "outputs": [
    {
     "data": {
      "text/plain": [
       "184"
      ]
     },
     "execution_count": 11,
     "metadata": {},
     "output_type": "execute_result"
    }
   ],
   "source": [
    "len(total_pos_train)"
   ]
  },
  {
   "cell_type": "code",
   "execution_count": 12,
   "metadata": {
    "collapsed": false,
    "pycharm": {
     "name": "#%%\n"
    }
   },
   "outputs": [
    {
     "name": "stdout",
     "output_type": "stream",
     "text": [
      "**************************************************\n",
      "patch is : 11\n",
      "mirror_image shape : [176,610,63]\n",
      "**************************************************\n",
      "x_test  shape = (30030, 11, 11, 63), type = float64\n",
      "**************************************************\n",
      "x_test  shape = (184, 11, 11, 63), type = float64\n",
      "**************************************************\n"
     ]
    }
   ],
   "source": [
    "hsi = norm(hsi)\n",
    "io.savemat(r'HSI_norm.mat',{'Data':hsi})\n",
    "hsi = mirror_hsi(hsi,11)\n",
    "\n",
    "HSI_Te = get_data(hsi, total_pos_test,patch=11,)\n",
    "io.savemat(\"HSI_Te.mat\",{\"Data\":HSI_Te})\n",
    "del HSI_Te\n",
    "\n",
    "\n",
    "HSI_Tr = get_data(hsi, total_pos_train,patch=11,)\n",
    "io.savemat(\"HSI_Tr.mat\",{\"Data\":HSI_Tr})\n",
    "del HSI_Tr\n",
    "del  hsi"
   ]
  },
  {
   "cell_type": "markdown",
   "metadata": {},
   "source": []
  },
  {
   "cell_type": "code",
   "execution_count": 13,
   "metadata": {
    "collapsed": false,
    "pycharm": {
     "name": "#%%\n"
    }
   },
   "outputs": [
    {
     "name": "stdout",
     "output_type": "stream",
     "text": [
      "**************************************************\n",
      "patch is : 11\n",
      "mirror_image shape : [176,610,1]\n",
      "**************************************************\n",
      "x_test  shape = (30030, 11, 11, 1), type = float64\n",
      "**************************************************\n",
      "x_test  shape = (184, 11, 11, 1), type = float64\n",
      "**************************************************\n"
     ]
    }
   ],
   "source": [
    "lidar = norm(lidar)\n",
    "io.savemat(r'LIDAR_norm.mat',{'Data':lidar})\n",
    "lidar = mirror_hsi(lidar,11)\n",
    "\n",
    "LIDAR_Te = get_data(lidar, total_pos_test,patch=11,)\n",
    "io.savemat(\"LIDAR_Te.mat\",{\"Data\":LIDAR_Te})\n",
    "del LIDAR_Te\n",
    "\n",
    "\n",
    "LIDAR_Tr = get_data(lidar, total_pos_train,patch=11,)\n",
    "io.savemat(\"LIDAR_Tr.mat\",{\"Data\":LIDAR_Tr})"
   ]
  },
  {
   "cell_type": "code",
   "execution_count": 14,
   "metadata": {
    "collapsed": false,
    "pycharm": {
     "name": "#%%\n"
    }
   },
   "outputs": [
    {
     "name": "stdout",
     "output_type": "stream",
     "text": [
      "y_test: shape = (30030,) ,type = int64\n",
      "**************************************************\n",
      "y_test: shape = (184,) ,type = int64\n",
      "**************************************************\n"
     ]
    }
   ],
   "source": [
    "TeLabel = get_label(number_test, num_classes)\n",
    "TrLabel = get_label(number_train, num_classes)\n",
    "io.savemat(\"TeLabel.mat\",{\"Data\":TeLabel})\n",
    "io.savemat(\"TrLabel.mat\",{\"Data\":TrLabel})"
   ]
  },
  {
   "cell_type": "code",
   "execution_count": null,
   "metadata": {},
   "outputs": [],
   "source": []
  }
 ],
 "metadata": {
  "kernelspec": {
   "display_name": "Python 3 (ipykernel)",
   "language": "python",
   "name": "python3"
  },
  "language_info": {
   "codemirror_mode": {
    "name": "ipython",
    "version": 3
   },
   "file_extension": ".py",
   "mimetype": "text/x-python",
   "name": "python",
   "nbconvert_exporter": "python",
   "pygments_lexer": "ipython3",
   "version": "3.8.10"
  }
 },
 "nbformat": 4,
 "nbformat_minor": 4
}
