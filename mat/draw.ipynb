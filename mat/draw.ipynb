{
 "cells": [
  {
   "cell_type": "code",
   "execution_count": 1,
   "metadata": {
    "pycharm": {
     "is_executing": true
    },
    "tags": []
   },
   "outputs": [],
   "source": [
    "from matplotlib import colors\n",
    "import matplotlib.pyplot as plt\n",
    "from pathlib import Path\n",
    "def draw_img(prediction_matrix,datasetName,modelName):\n",
    "\n",
    "    colormap = {\n",
    "\n",
    "    \"MUUFL\": colors.ListedColormap(\n",
    "          [\"#0000cd\",\"#0008ff\",\"#004dff\",\"#0091ff\",\"#00d4ff\",\"#29ffce\",\"#60ff97\",\"#97ff60\",\"#ceff29\",\"#ffe600\",\"#ffa700\"]),\n",
    "        \"Trento\": colors.ListedColormap(\n",
    "           [\"#0000cd\",\"#0008ff\",\"#004dff\",\"#0091ff\",\"#00d4ff\",\"#29ffce\"]),\n",
    "        \"Augsburg-SAR\": colors.ListedColormap(\n",
    "            [\"#0000cd\",\"#0008ff\",\"#004dff\",\"#0091ff\",\"#00d4ff\",\"#29ffce\",\"#60ff97\"]),\n",
    "         \"Augsburg-DSM\": colors.ListedColormap(\n",
    "            [\"#0000cd\",\"#0008ff\",\"#004dff\",\"#0091ff\",\"#00d4ff\",\"#29ffce\",\"#60ff97\"]),\n",
    "    }\n",
    "    # savemat(f'{args.dataset}_matrix.mat', {'Data': prediction_matrix})\n",
    "    plt.subplot(1, 1, 1)\n",
    "    print(type(prediction_matrix))\n",
    "    plt.imshow(prediction_matrix, cmap=colormap[datasetName])\n",
    "    plt.xticks([])\n",
    "    plt.yticks([])\n",
    "    plt.xticks(alpha=0)\n",
    "    plt.yticks(alpha=0)\n",
    "    plt.axis('off')\n",
    "    plt.tick_params(axis='x', width=0)\n",
    "    plt.tick_params(axis='y', width=0)\n",
    "    ax = plt.gca()\n",
    "    ax.spines['top'].set_visible(False)\n",
    "\n",
    "    ax.spines['bottom'].set_visible(False)\n",
    "    ax.spines['left'].set_visible(False)\n",
    "    ax.spines['right'].set_visible(False)\n",
    "    # plt.show()\n",
    "\n",
    "    plt.tight_layout()\n",
    "    # plt.legend()\n",
    "    imgDatasetPath = Path(datasetName)\n",
    "    imgDatasetPath.mkdir(parents=True, exist_ok=True)\n",
    "\n",
    "    fileName = imgDatasetPath / \"{}.png\".format(modelName)\n",
    "    plt.savefig(fileName, bbox_inches='tight', dpi=1000,pad_inches=0)\n",
    "    # io.savemat(imgDatasetPath / \"{}_{}.mat\".format(section[\"network\"],configName),{'Data':prediction_matrix})"
   ]
  },
  {
   "cell_type": "code",
   "execution_count": 2,
   "metadata": {
    "collapsed": false,
    "jupyter": {
     "outputs_hidden": false
    },
    "pycharm": {
     "is_executing": true,
     "name": "#%%\n"
    }
   },
   "outputs": [
    {
     "name": "stdout",
     "output_type": "stream",
     "text": [
      "<class 'numpy.ndarray'>\n",
      "<class 'numpy.ndarray'>\n",
      "<class 'numpy.ndarray'>\n",
      "<class 'numpy.ndarray'>\n",
      "<class 'numpy.ndarray'>\n",
      "<class 'numpy.ndarray'>\n",
      "<class 'numpy.ndarray'>\n",
      "<class 'numpy.ndarray'>\n"
     ]
    },
    {
     "data": {
      "image/png": "[encoded data removed]",
      "text/plain": [
       "<Figure size 640x480 with 1 Axes>"
      ]
     },
     "metadata": {},
     "output_type": "display_data"
    }
   ],
   "source": [
    "from scipy.io import loadmat as loadmat\n",
    "files = ['ExViT_trainAndDraw,Augsburg-DSM,ExViT.mat',\n",
    "'ExViT_trainAndDraw,Augsburg-SAR,ExViT.mat',\n",
    "'ExViT_trainAndDraw,MUUFL,ExViT.mat',\n",
    "'ExViT_trainAndDraw,Trento,ExViT.mat',\n",
    "'HCT_trainAndDraw,Augsburg-DSM,HCT.mat',\n",
    "'HCT_trainAndDraw,Augsburg-SAR,HCT.mat',\n",
    "'HCT_trainAndDraw,MUUFL,HCT.mat',\n",
    "'HCT_trainAndDraw,Trento,HCT.mat',]\n",
    "for each in files:\n",
    "    _,datasetName,modelName = each[:-4].split(\",\")\n",
    "    mat = loadmat(each)['Data']\n",
    "    draw_img(mat,datasetName,modelName)"
   ]
  },
  {
   "cell_type": "code",
   "execution_count": null,
   "metadata": {
    "collapsed": false,
    "jupyter": {
     "outputs_hidden": false
    },
    "pycharm": {
     "name": "#%%\n"
    }
   },
   "outputs": [],
   "source": []
  }
 ],
 "metadata": {
  "kernelspec": {
   "display_name": "Python 3 (ipykernel)",
   "language": "python",
   "name": "python3"
  },
  "language_info": {
   "codemirror_mode": {
    "name": "ipython",
    "version": 3
   },
   "file_extension": ".py",
   "mimetype": "text/x-python",
   "name": "python",
   "nbconvert_exporter": "python",
   "pygments_lexer": "ipython3",
   "version": "3.8.10"
  }
 },
 "nbformat": 4,
 "nbformat_minor": 4
}
